{
 "cells": [
  {
   "cell_type": "code",
   "execution_count": 11,
   "metadata": {
    "collapsed": false,
    "deletable": true,
    "editable": true
   },
   "outputs": [
    {
     "name": "stderr",
     "output_type": "stream",
     "text": [
      "\u001b[32m\u001b[1m Activating\u001b[22m\u001b[39m environment at `~/CrystalGraphConvNets.jl/Project.toml`\n"
     ]
    },
    {
     "data": {
      "text/plain": [
       "PyObject <module 'pymatgen.core.structure' from '/home/qingyanz/miniconda3/envs/pymatgen/lib/python3.8/site-packages/pymatgen/core/structure.py'>"
      ]
     },
     "execution_count": 11,
     "metadata": {},
     "output_type": "execute_result"
    }
   ],
   "source": [
    "using Pkg\n",
    "Pkg.activate(\"/home/qingyanz/CrystalGraphConvNets.jl\")\n",
    "\n",
    "using CSV\n",
    "using DataFrames\n",
    "using SparseArrays\n",
    "using Random, Statistics\n",
    "using Flux\n",
    "using Flux: @epochs\n",
    "using GeometricFlux\n",
    "using SimpleWeightedGraphs\n",
    "using CrystalGraphConvNets\n",
    "using DelimitedFiles\n",
    "using ProgressBars\n",
    "using PeriodicTable\n",
    "\n",
    "using PyCall\n",
    "s = pyimport(\"pymatgen.core.structure\")"
   ]
  },
  {
   "cell_type": "code",
   "execution_count": 2,
   "metadata": {
    "collapsed": false,
    "deletable": true,
    "editable": true
   },
   "outputs": [
    {
     "data": {
      "text/plain": [
       "visualize_graph"
      ]
     },
     "execution_count": 2,
     "metadata": {},
     "output_type": "execute_result"
    }
   ],
   "source": [
    "export inverse_square, exp_decay, build_graph, visualize_graph\n",
    "include(\"../../CrystalGraphConvNets.jl/src/graph_functions.jl\")"
   ]
  },
  {
   "cell_type": "code",
   "execution_count": 3,
   "metadata": {
    "collapsed": false,
    "deletable": true,
    "editable": true
   },
   "outputs": [
    {
     "data": {
      "text/plain": [
       "50"
      ]
     },
     "execution_count": 3,
     "metadata": {},
     "output_type": "execute_result"
    }
   ],
   "source": [
    "# Hyperparameters\n",
    "train_frac = 0.8\n",
    "num_epochs = 10\n",
    "cutoff_radius=8.0\n",
    "max_num_nbr=12\n",
    "decay_fcn=inverse_square\n",
    "\n",
    "datasize = \"_mid\"\n",
    "cif_dir = \"../cif/\"\n",
    "el_list_dir = \"../graphs/ellists$datasize\"\n",
    "graph_weights_dir = \"../graphs/grwts$datasize\"\n",
    "\n",
    "num_conv = 3\n",
    "atom_fea_len = 32\n",
    "pool_type = \"mean\"\n",
    "crys_fea_len = 128\n",
    "num_hidden_layers = 1\n",
    "lr = 0.001\n",
    "\n",
    "features = [\"group\", \"row\", \"X\", \"atomic_radius\", \"block\"]\n",
    "num_bins = [18, 8, 10, 10, 4]\n",
    "logspaced = [false, false, false, true, false]\n",
    "num_features = sum(num_bins)"
   ]
  },
  {
   "cell_type": "code",
   "execution_count": 4,
   "metadata": {
    "collapsed": false,
    "deletable": true,
    "editable": true
   },
   "outputs": [
    {
     "data": {
      "text/plain": [
       "\"../cif/1/00/00/1000001.cif\""
      ]
     },
     "execution_count": 4,
     "metadata": {},
     "output_type": "execute_result"
    }
   ],
   "source": [
    "cif_path = string(\"../cif/1/00/00/1000001.cif\")"
   ]
  },
  {
   "cell_type": "code",
   "execution_count": 5,
   "metadata": {
    "collapsed": false
   },
   "outputs": [
    {
     "name": "stdout",
     "output_type": "stream",
     "text": [
      " 13.119537 seconds (17.95 M allocations: 471.981 MiB, 5.72% gc time)\n"
     ]
    },
    {
     "data": {
      "text/plain": [
       "({1156, 7340} undirected simple Int32 graph with Float32 weights, [\"H\", \"H\", \"H\", \"H\", \"H\", \"H\", \"H\", \"H\", \"H\", \"H\"  …  \"O\", \"O\", \"O\", \"O\", \"O\", \"O\", \"O\", \"O\", \"O\", \"O\"])"
      ]
     },
     "execution_count": 5,
     "metadata": {},
     "output_type": "execute_result"
    }
   ],
   "source": [
    "gr, els = @time build_graph(cif_path)"
   ]
  },
  {
   "cell_type": "code",
   "execution_count": 33,
   "metadata": {
    "collapsed": false
   },
   "outputs": [
    {
     "data": {
      "text/plain": [
       "\"He\""
      ]
     },
     "execution_count": 33,
     "metadata": {},
     "output_type": "execute_result"
    }
   ],
   "source": [
    "pop!(els)"
   ]
  },
  {
   "cell_type": "code",
   "execution_count": 34,
   "metadata": {
    "collapsed": false
   },
   "outputs": [
    {
     "data": {
      "text/plain": [
       "1156-element Array{String,1}:\n",
       " \"H\"\n",
       " \"H\"\n",
       " \"H\"\n",
       " \"H\"\n",
       " \"H\"\n",
       " \"H\"\n",
       " \"H\"\n",
       " \"H\"\n",
       " \"H\"\n",
       " \"H\"\n",
       " \"H\"\n",
       " \"H\"\n",
       " \"H\"\n",
       " ⋮\n",
       " \"O\"\n",
       " \"O\"\n",
       " \"O\"\n",
       " \"O\"\n",
       " \"O\"\n",
       " \"O\"\n",
       " \"O\"\n",
       " \"O\"\n",
       " \"O\"\n",
       " \"O\"\n",
       " \"O\"\n",
       " \"O\""
      ]
     },
     "execution_count": 34,
     "metadata": {},
     "output_type": "execute_result"
    }
   ],
   "source": [
    "els"
   ]
  },
  {
   "cell_type": "code",
   "execution_count": 25,
   "metadata": {
    "collapsed": false
   },
   "outputs": [
    {
     "data": {
      "text/plain": [
       "23-element Array{String,1}:\n",
       " \"He\"\n",
       " \"Ne\"\n",
       " \"Ar\"\n",
       " \"Kr\"\n",
       " \"Xe\"\n",
       " \"Bi\"\n",
       " \"Po\"\n",
       " \"At\"\n",
       " \"Rn\"\n",
       " \"Fr\"\n",
       " \"Ra\"\n",
       " \"Ac\"\n",
       " \"Th\"\n",
       " \"Pa\"\n",
       " \"U\"\n",
       " \"Np\"\n",
       " \"Pu\"\n",
       " \"Am\"\n",
       " \"Cm\"\n",
       " \"Bk\"\n",
       " \"Cf\"\n",
       " \"Es\"\n",
       " \"Fm\""
      ]
     },
     "execution_count": 25,
     "metadata": {},
     "output_type": "execute_result"
    }
   ],
   "source": [
    "# leave off noble gases too\n",
    "max_atno = 83\n",
    "nums_to_skip = union([2, 10, 18, 36, 54], Array(min(max_atno, 100):100))\n",
    "all_elements = [e.symbol for e in elements[nums_to_skip]]"
   ]
  },
  {
   "cell_type": "code",
   "execution_count": 35,
   "metadata": {
    "collapsed": false
   },
   "outputs": [
    {
     "data": {
      "text/plain": [
       "Set{String} with 0 elements"
      ]
     },
     "execution_count": 35,
     "metadata": {},
     "output_type": "execute_result"
    }
   ],
   "source": [
    "intersect(Set(els), all_elements)"
   ]
  },
  {
   "cell_type": "code",
   "execution_count": 36,
   "metadata": {
    "collapsed": false
   },
   "outputs": [
    {
     "name": "stdout",
     "output_type": "stream",
     "text": [
      "pass\n"
     ]
    }
   ],
   "source": [
    "if isempty(intersect(Set(els), skipped_elements))\n",
    "    println(\"pass\")\n",
    "end"
   ]
  },
  {
   "cell_type": "code",
   "execution_count": null,
   "metadata": {
    "collapsed": true,
    "deletable": true,
    "editable": true
   },
   "outputs": [],
   "source": [
    "labels = CSV.read(\"../labels/example$datasize.txt\",\n",
    "                  type=\"String\", delim=\", \")\n",
    "\n",
    "# Discard cifs with missing labels for time being\n",
    "labels = labels[labels[:crystalsystem] .!= \"?\", :]\n",
    "labels = labels[labels[:crystalsystem] .!= \"i\", :]\n",
    "labels = labels[labels[:crystalsystem] .!= \"!\", :]\n",
    "\n",
    "atom_feature_vecs = make_feature_vectors(features) # , num_bins, logspaced)\n",
    "inputs = FeaturedGraph{SimpleWeightedGraph{Int32, Float32}, Array{Float32,2}}[]\n",
    "cifs_without_graphs = Matrix(undef, 0, 2)\n",
    "\n",
    "cif_root = labels[:, 1]\n",
    "\n",
    "# make all the combinations\n",
    "# params = Iterators.product(cutoff_radii, nbr_num_cutoffs, decay_fcns)        \n",
    "# for p in params\n",
    "for (row, cif) in ProgressBar(enumerate(cif_root))\n",
    "    # path to the cif\n",
    "    cif_path = string(cif_dir, cif[1], \"/\", cif[2:3], \"/\", \n",
    "                      cif[4:5], \"/\", cif, \".cif\")\n",
    "    \n",
    "    try\n",
    "        params_suffix = \"\"\n",
    "        el_list_subdir = string(el_list_dir, params_suffix,'/')\n",
    "        gr_wt_subdir = string(graph_weights_dir, params_suffix,'/')\n",
    "        \n",
    "        if !isdir(el_list_subdir)\n",
    "            mkdir(el_list_subdir)\n",
    "        end\n",
    "        if !isdir(gr_wt_subdir)\n",
    "            mkdir(gr_wt_subdir)\n",
    "        end\n",
    "        \n",
    "        gr, els = @time build_graph(cif_path) \n",
    "                  # radius=radius, max_num_nbr=max_num_nbr, dist_decay_func=decay_func\n",
    "                \n",
    "        writedlm(string(gr_wt_subdir, cif,\".txt\"), gr.weights)\n",
    "        writedlm(string(el_list_subdir, cif,\".txt\"), els)\n",
    "    catch e\n",
    "        @info(\"unable to build graph at cif = $cif\")\n",
    "        \n",
    "        # Record cifs where graph building failed\n",
    "        global cifs_without_graphs = vcat(cifs_without_graphs, [row cif])\n",
    "    end\n",
    "end\n",
    "\n",
    "# Record cifs where graph building failed\n",
    "writedlm(\"../graphs/cifs_without_graphs$datasize.csv\", cifs_without_graphs)"
   ]
  },
  {
   "cell_type": "code",
   "execution_count": null,
   "metadata": {
    "collapsed": true,
    "deletable": true,
    "editable": true
   },
   "outputs": [],
   "source": []
  }
 ],
 "metadata": {
  "kernelspec": {
   "display_name": "Julia 1.4.0",
   "language": "julia",
   "name": "julia-1.4"
  },
  "language_info": {
   "file_extension": ".jl",
   "mimetype": "application/julia",
   "name": "julia",
   "version": "1.4.0"
  }
 },
 "nbformat": 4,
 "nbformat_minor": 2
}
